{
  "nbformat": 4,
  "nbformat_minor": 0,
  "metadata": {
    "colab": {
      "name": "cnn_fashion_keras.ipynb",
      "version": "0.3.2",
      "provenance": [],
      "collapsed_sections": []
    },
    "kernelspec": {
      "name": "python3",
      "display_name": "Python 3"
    }
  },
  "cells": [
    {
      "cell_type": "markdown",
      "metadata": {
        "id": "OlZTTlQNgo2o",
        "colab_type": "text"
      },
      "source": [
        "# **Convolutional neural network (CNN) for Fashion MNIST dataset**\n",
        "\n",
        "-  We will implement a simple CNN model with 2 convolution and 2 fully connected layers as the following figure. **conv1 --> relu1 --> pool1 ----> conv2 --> relu2 --> pool2 ----> fc1 --> fc2**\n",
        "\n",
        "\n",
        "\n",
        "\n",
        "![picture](https://nasirml.files.wordpress.com/2019/01/simple_convnet-3.png?w=580&h=182)\n",
        "\n",
        "\n",
        "\n",
        "\n",
        "\n",
        "\n",
        "\n",
        "## **Common deep learning steps**\n",
        "\n",
        "* Step 1: Generate training and test data (and preprocess)\n",
        "* Step 2: Initialize the network parameters\n",
        "* Step 3: Forward propagation\n",
        "* Step 4: Compute the cost/loss\n",
        "* Step 5: Backpropagation or create an optimizer to minimize the cost from step 4\n",
        "* Step 6: Evaluate the model with your test set\n"
      ]
    },
    {
      "cell_type": "code",
      "metadata": {
        "id": "SXQ-_3sPglUf",
        "colab_type": "code",
        "colab": {}
      },
      "source": [
        "# imports\n",
        "import tensorflow as tf\n",
        "import numpy as np\n",
        "import matplotlib.pyplot as plt\n",
        "from tensorflow import keras\n",
        "import os   # to save the checkpoint\n",
        "#sess = tf.InteractiveSession()"
      ],
      "execution_count": 0,
      "outputs": []
    },
    {
      "cell_type": "markdown",
      "metadata": {
        "id": "Ac8hAAEKtoWN",
        "colab_type": "text"
      },
      "source": [
        "# **Load the dataset**\n",
        "* **Fashion-MNIST** is a dataset of article images—consisting of a training set of 60,000 examples and a test set of 10,000 examples. Each example is a 28x28 grayscale image, associated with a label from 10 classes. It shares the same image size and structure of training and testing splits of MNIST.\n",
        "\n",
        "\n",
        "* The images are 28x28 NumPy arrays, with pixel values ranging between 0 and 255. The labels are an array of integers, ranging from 0 to 9. These correspond to the class of clothing the image represents.\n",
        "\n",
        "* MNIST is very easy. Classic machine learning algorithms can also achieve 97% easily as you have see in the last lab. With convolutional nets, we can achieve 99.7% on MNIST. That is why we are trying a more serious dataset which a bit challenging but still gives us the fexibility and ease of MNIST.\n",
        "\n",
        "* Sample images from the Fashion MNIST data in the following figure (each class takes three rows).\n",
        "\n",
        "* "
      ]
    },
    {
      "cell_type": "markdown",
      "metadata": {
        "id": "Hqi0oCa4RLO-",
        "colab_type": "text"
      },
      "source": [
        "\n",
        "\n",
        "<table>\n",
        "  <tr><td>\n",
        "    <img src=\"https://tensorflow.org/images/fashion-mnist-sprite.png\"\n",
        "         alt=\"Fashion MNIST sprite\"  width=\"600\">\n",
        "  </td></tr>\n",
        "  <tr><td align=\"center\">\n",
        "    <b>Figure 1.</b> <a href=\"https://github.com/zalandoresearch/fashion-mnist\">Fashion-MNIST samples</a> (by Zalando, MIT License).<br/>&nbsp;\n",
        "  </td></tr>\n",
        "</table>"
      ]
    },
    {
      "cell_type": "markdown",
      "metadata": {
        "id": "JJcWxazVBbGA",
        "colab_type": "text"
      },
      "source": [
        "Loading the dataset returns four NumPy arrays:\n",
        "\n",
        "* The `x_train` and `y_train` arrays are the *training set*—the data the model uses to learn.\n",
        "* The model is tested against the *test set*, the `x_test`, and `y_test` arrays.\n",
        "\n",
        "The images are 28x28 NumPy arrays, with pixel values ranging between 0 and 255. The *labels* are an array of integers, ranging from 0 to 9. These correspond to the *class* of clothing the image represents:\n",
        "\n",
        "<table>\n",
        "  <tr>\n",
        "    <th>Label</th>\n",
        "    <th>Class</th> \n",
        "  </tr>\n",
        "  <tr>\n",
        "    <td>0</td>\n",
        "    <td>T-shirt/top</td> \n",
        "  </tr>\n",
        "  <tr>\n",
        "    <td>1</td>\n",
        "    <td>Trouser</td> \n",
        "  </tr>\n",
        "    <tr>\n",
        "    <td>2</td>\n",
        "    <td>Pullover</td> \n",
        "  </tr>\n",
        "    <tr>\n",
        "    <td>3</td>\n",
        "    <td>Dress</td> \n",
        "  </tr>\n",
        "    <tr>\n",
        "    <td>4</td>\n",
        "    <td>Coat</td> \n",
        "  </tr>\n",
        "    <tr>\n",
        "    <td>5</td>\n",
        "    <td>Sandal</td> \n",
        "  </tr>\n",
        "    <tr>\n",
        "    <td>6</td>\n",
        "    <td>Shirt</td> \n",
        "  </tr>\n",
        "    <tr>\n",
        "    <td>7</td>\n",
        "    <td>Sneaker</td> \n",
        "  </tr>\n",
        "    <tr>\n",
        "    <td>8</td>\n",
        "    <td>Bag</td> \n",
        "  </tr>\n",
        "    <tr>\n",
        "    <td>9</td>\n",
        "    <td>Ankle boot</td> \n",
        "  </tr>\n",
        "</table>\n",
        "\n",
        "* Each image is mapped to a single label. Since the *class names* are not included with the dataset, store them here to use later when plotting the images:\n",
        "\n",
        "* **loading the dataset is very easy as it is already included in the TensorFlow/Keras library. We just have to include `tf.keras.datasets.fashion_mnist` and call the `load_data()` function.**\n",
        "* It returns training and test datasets including the labels. \n"
      ]
    },
    {
      "cell_type": "code",
      "metadata": {
        "id": "bypNXqd5g_CS",
        "colab_type": "code",
        "colab": {}
      },
      "source": [
        "def read_dataset():\n",
        "  '''\n",
        "  - read fashion mnist dataset\n",
        "  - \n",
        "  '''\n",
        "  fashion_mnist = tf.keras.datasets.fashion_mnist\n",
        "  (x_train, y_train), (x_test, y_test) = fashion_mnist.load_data()\n",
        "  \n",
        "  return x_train, y_train, x_test, y_test\n"
      ],
      "execution_count": 0,
      "outputs": []
    },
    {
      "cell_type": "code",
      "metadata": {
        "id": "Wy-kGdjSiye2",
        "colab_type": "code",
        "outputId": "28fc431c-fd7a-4abc-bdae-4bf82ad587e7",
        "colab": {
          "base_uri": "https://localhost:8080/",
          "height": 156
        }
      },
      "source": [
        "# call the function to read fashion mnist\n",
        "x_train, y_train, x_test, y_test = read_dataset()"
      ],
      "execution_count": 3,
      "outputs": [
        {
          "output_type": "stream",
          "text": [
            "Downloading data from https://storage.googleapis.com/tensorflow/tf-keras-datasets/train-labels-idx1-ubyte.gz\n",
            "32768/29515 [=================================] - 0s 0us/step\n",
            "Downloading data from https://storage.googleapis.com/tensorflow/tf-keras-datasets/train-images-idx3-ubyte.gz\n",
            "26427392/26421880 [==============================] - 0s 0us/step\n",
            "Downloading data from https://storage.googleapis.com/tensorflow/tf-keras-datasets/t10k-labels-idx1-ubyte.gz\n",
            "8192/5148 [===============================================] - 0s 0us/step\n",
            "Downloading data from https://storage.googleapis.com/tensorflow/tf-keras-datasets/t10k-images-idx3-ubyte.gz\n",
            "4423680/4422102 [==============================] - 0s 0us/step\n"
          ],
          "name": "stdout"
        }
      ]
    },
    {
      "cell_type": "markdown",
      "metadata": {
        "id": "r25Dn4Pdj-3T",
        "colab_type": "text"
      },
      "source": [
        "# **Look at the data**\n",
        "\n",
        "* **Training data** — used for training the model.\n",
        "\n",
        "* **Test data** — are the images not seen the network yet. A totally new set to test the generalization capability of the network. \n",
        "\n"
      ]
    },
    {
      "cell_type": "code",
      "metadata": {
        "id": "Nf2rKSqQx1Sl",
        "colab_type": "code",
        "outputId": "4990478a-06a3-404c-b195-75485b028391",
        "colab": {
          "base_uri": "https://localhost:8080/",
          "height": 86
        }
      },
      "source": [
        "print('Training data size:' + str(x_train.shape))\n",
        "print('Training labels size: ' + str(y_train.shape))\n",
        "\n",
        "print('Test data size: ' + str(x_test.shape))\n",
        "print('Test label size: ' + str(y_test.shape))"
      ],
      "execution_count": 4,
      "outputs": [
        {
          "output_type": "stream",
          "text": [
            "Training data size:(60000, 28, 28)\n",
            "Training labels size: (60000,)\n",
            "Test data size: (10000, 28, 28)\n",
            "Test label size: (10000,)\n"
          ],
          "name": "stdout"
        }
      ]
    },
    {
      "cell_type": "code",
      "metadata": {
        "id": "cPZhF5SZkVFE",
        "colab_type": "code",
        "outputId": "b13347a1-10b1-427f-c90e-c0d0ad5aa019",
        "colab": {
          "base_uri": "https://localhost:8080/",
          "height": 52
        }
      },
      "source": [
        "fashion_mnist_labels = ['T-shirt/top', 'Trouser', 'Pullover', 'Dress', 'Coat', \n",
        "                        'Sandal', 'Shirt', 'Sneaker', 'Bag', 'Ankle boot']\n",
        "print(fashion_mnist_labels)\n",
        "print(y_train[100], fashion_mnist_labels[y_train[100]])"
      ],
      "execution_count": 5,
      "outputs": [
        {
          "output_type": "stream",
          "text": [
            "['T-shirt/top', 'Trouser', 'Pullover', 'Dress', 'Coat', 'Sandal', 'Shirt', 'Sneaker', 'Bag', 'Ankle boot']\n",
            "8 Bag\n"
          ],
          "name": "stdout"
        }
      ]
    },
    {
      "cell_type": "code",
      "metadata": {
        "id": "C0VT02lFkFgM",
        "colab_type": "code",
        "outputId": "cb7f6501-9d2c-4a88-9d83-203f5aa58981",
        "colab": {
          "base_uri": "https://localhost:8080/",
          "height": 240
        }
      },
      "source": [
        "# look at the first 10 images\n",
        "rand_img = np.array([1, 6, 1001, 100, 500, 250])\n",
        "for i in range(10):\n",
        "    plt.subplot(2, 5, i+1); plt.axis('off')\n",
        "    plt.imshow(np.reshape(x_train[i], [28, 28]), cmap='gray')\n",
        "    plt.title(fashion_mnist_labels[y_train[i]])    \n",
        "plt.show()"
      ],
      "execution_count": 6,
      "outputs": [
        {
          "output_type": "display_data",
          "data": {
            "image/png": "[encoded data removed]",
            "text/plain": [
              "<Figure size 432x288 with 10 Axes>"
            ]
          },
          "metadata": {
            "tags": []
          }
        }
      ]
    },
    {
      "cell_type": "markdown",
      "metadata": {
        "id": "hB7-TVbmzMIy",
        "colab_type": "text"
      },
      "source": [
        "# **Preprocess data**\n",
        "\n",
        "* **Data normalization.** To have the pixel values in the range `[0,1]`, we divide the images with 255. This is just a standart practice in machine learning.\n",
        "* **One-hot encoding.** \n",
        "* Reshape to `28 x 28x 1`\n",
        "* "
      ]
    },
    {
      "cell_type": "code",
      "metadata": {
        "id": "WuR0FxO07mIu",
        "colab_type": "code",
        "outputId": "5aeafc49-9afa-43f8-e9bc-60b6ec6c88e3",
        "colab": {
          "base_uri": "https://localhost:8080/",
          "height": 121
        }
      },
      "source": [
        "# normalize the images\n",
        "#x_train = x_train.astype('float32')/255.0\n",
        "#x_test = x_test.astype('float32')/255.0 \n",
        "\n",
        "# Convert the labels to one-hot vectors\n",
        "print(y_train[0:5])\n",
        "y_train = tf.keras.utils.to_categorical(y_train, 10)  # 10 classes\n",
        "y_test = tf.keras.utils.to_categorical(y_test, 10)\n",
        "print(y_train[0:5])"
      ],
      "execution_count": 7,
      "outputs": [
        {
          "output_type": "stream",
          "text": [
            "[9 0 0 3 0]\n",
            "[[0. 0. 0. 0. 0. 0. 0. 0. 0. 1.]\n",
            " [1. 0. 0. 0. 0. 0. 0. 0. 0. 0.]\n",
            " [1. 0. 0. 0. 0. 0. 0. 0. 0. 0.]\n",
            " [0. 0. 0. 1. 0. 0. 0. 0. 0. 0.]\n",
            " [1. 0. 0. 0. 0. 0. 0. 0. 0. 0.]]\n"
          ],
          "name": "stdout"
        }
      ]
    },
    {
      "cell_type": "code",
      "metadata": {
        "id": "H4IaX8lgRJFc",
        "colab_type": "code",
        "colab": {}
      },
      "source": [
        "# Reshape input data from (28,28) to (28, 28, 1), to 3D\n",
        "# height x width x channel. we have gray scale images so channel = 1\n",
        "w, h = 28, 28\n",
        "x_train = x_train.reshape(x_train.shape[0], w, h, 1)\n",
        "x_test = x_test.reshape(x_test.shape[0], w, h, 1)"
      ],
      "execution_count": 0,
      "outputs": []
    },
    {
      "cell_type": "markdown",
      "metadata": {
        "id": "WtMTwCY4l_Fb",
        "colab_type": "text"
      },
      "source": [
        "# **Build the CNN model**\n",
        "- Make sure to define the input shape in the first layer of the neural network. \n",
        "- Rest of the layers can adjust the input and output shapes automatically\n",
        "- \n",
        "\n",
        "\n",
        "\n",
        "\n",
        "---\n",
        "\n",
        "![picture](https://nasirml.files.wordpress.com/2019/01/simple_convnet-3.png?w=580&h=182)\n",
        "\n",
        "\n",
        "\n",
        "\n",
        "\n",
        "\n",
        "*   Convolutional layer (conv):\n",
        "*   ReLU layer:\n",
        "*   Pooling layer:\n",
        "*   Dropout layer:\n",
        "*   Fully connected layer (FC):\n",
        "\n"
      ]
    },
    {
      "cell_type": "markdown",
      "metadata": {
        "id": "SnFu06Sb2aMy",
        "colab_type": "text"
      },
      "source": [
        "\n",
        "* We use `model.compile()`  to configure the learning process before training the model. \n",
        "\n",
        "* This is where we define the type of loss function, optimizer and the metrics evaluated by the model during training and testing.\n",
        "\n",
        "* **Important:** before we apply the fully-connected layers, we need to flatten the the current output."
      ]
    },
    {
      "cell_type": "code",
      "metadata": {
        "id": "HehPCCVlRTPg",
        "colab_type": "code",
        "colab": {}
      },
      "source": [
        "def create_model():\n",
        "  model = tf.keras.Sequential()\n",
        "\n",
        "  model.add(tf.keras.layers.Conv2D(filters=64, kernel_size=3, padding='same', activation='relu', input_shape=(28,28,1))) \n",
        "  model.add(tf.keras.layers.MaxPooling2D(pool_size=2))\n",
        "\n",
        "  model.add(tf.keras.layers.Conv2D(filters=32, kernel_size=3, padding='same', activation='relu'))\n",
        "  model.add(tf.keras.layers.MaxPooling2D(pool_size=2))\n",
        "\n",
        "  model.add(tf.keras.layers.Flatten())\n",
        "  model.add(tf.keras.layers.Dense(256, activation='relu')) # 1568*256+256 = 401664 params total\n",
        "  model.add(tf.keras.layers.Dropout(0.5))\n",
        "  model.add(tf.keras.layers.Dense(10, activation='softmax'))\n",
        "  \n",
        "  model.compile(loss='categorical_crossentropy',\n",
        "             optimizer='adam',\n",
        "             metrics=['accuracy'])\n",
        "  \n",
        "  return model"
      ],
      "execution_count": 0,
      "outputs": []
    },
    {
      "cell_type": "code",
      "metadata": {
        "id": "1OhOSdfU3mKX",
        "colab_type": "code",
        "outputId": "7f195a67-994b-43bb-88ff-e8d84924faf1",
        "colab": {
          "base_uri": "https://localhost:8080/",
          "height": 141
        }
      },
      "source": [
        "# create the model \n",
        "\n",
        "model = create_model()"
      ],
      "execution_count": 11,
      "outputs": [
        {
          "output_type": "stream",
          "text": [
            "WARNING:tensorflow:From /usr/local/lib/python3.6/dist-packages/tensorflow/python/ops/resource_variable_ops.py:435: colocate_with (from tensorflow.python.framework.ops) is deprecated and will be removed in a future version.\n",
            "Instructions for updating:\n",
            "Colocations handled automatically by placer.\n",
            "WARNING:tensorflow:From /usr/local/lib/python3.6/dist-packages/tensorflow/python/keras/layers/core.py:143: calling dropout (from tensorflow.python.ops.nn_ops) with keep_prob is deprecated and will be removed in a future version.\n",
            "Instructions for updating:\n",
            "Please use `rate` instead of `keep_prob`. Rate should be set to `rate = 1 - keep_prob`.\n"
          ],
          "name": "stdout"
        }
      ]
    },
    {
      "cell_type": "markdown",
      "metadata": {
        "id": "8MO8gcnh3t7J",
        "colab_type": "text"
      },
      "source": [
        "## **Model summary**\n",
        "\n",
        "* `conv2d_3` means the convolution in 2D with `3 x 3` filters.\n",
        "* Number of parameters 640 comes from `3*3*64 + 64`\n"
      ]
    },
    {
      "cell_type": "code",
      "metadata": {
        "id": "sW0ommccqqWH",
        "colab_type": "code",
        "outputId": "4220317a-b9c4-4564-bc19-2b1242969e28",
        "colab": {
          "base_uri": "https://localhost:8080/",
          "height": 416
        }
      },
      "source": [
        "\n",
        "# Take a look at the model summary\n",
        "model.summary()\n"
      ],
      "execution_count": 12,
      "outputs": [
        {
          "output_type": "stream",
          "text": [
            "_________________________________________________________________\n",
            "Layer (type)                 Output Shape              Param #   \n",
            "=================================================================\n",
            "conv2d (Conv2D)              (None, 28, 28, 64)        640       \n",
            "_________________________________________________________________\n",
            "max_pooling2d (MaxPooling2D) (None, 14, 14, 64)        0         \n",
            "_________________________________________________________________\n",
            "conv2d_1 (Conv2D)            (None, 14, 14, 32)        18464     \n",
            "_________________________________________________________________\n",
            "max_pooling2d_1 (MaxPooling2 (None, 7, 7, 32)          0         \n",
            "_________________________________________________________________\n",
            "flatten (Flatten)            (None, 1568)              0         \n",
            "_________________________________________________________________\n",
            "dense (Dense)                (None, 256)               401664    \n",
            "_________________________________________________________________\n",
            "dropout (Dropout)            (None, 256)               0         \n",
            "_________________________________________________________________\n",
            "dense_1 (Dense)              (None, 10)                2570      \n",
            "=================================================================\n",
            "Total params: 423,338\n",
            "Trainable params: 423,338\n",
            "Non-trainable params: 0\n",
            "_________________________________________________________________\n"
          ],
          "name": "stdout"
        }
      ]
    },
    {
      "cell_type": "markdown",
      "metadata": {
        "id": "7Z1KlFjtmYFV",
        "colab_type": "text"
      },
      "source": [
        "# **Now Train our model CNN**\n",
        "\n",
        "\n",
        "\n",
        "*  Train the model and also save the checkpoint so that we do not have to train everytime\n",
        "\n",
        "*   Shuffle is TRUE by default. Still I include it to tell that this is very important.\n",
        "\n",
        "*  Take around 20 minutes for 10 epochs/iterations.\n",
        "\n",
        "* loss decreases and accuracy increases\n",
        "\n"
      ]
    },
    {
      "cell_type": "code",
      "metadata": {
        "id": "3xIscEpWTj2v",
        "colab_type": "code",
        "outputId": "be6f18a0-7823-4c75-dfa0-bc1254684068",
        "colab": {
          "base_uri": "https://localhost:8080/",
          "height": 454
        }
      },
      "source": [
        "'''\n",
        "- more params\n",
        "  - validation_split=0.1 means 10% of the training data will be used for validation set\n",
        "  -\n",
        "'''\n",
        "n_iteration = 10\n",
        "model.fit(x_train, y_train, batch_size=64, epochs=n_iteration, shuffle=True)\n"
      ],
      "execution_count": 13,
      "outputs": [
        {
          "output_type": "stream",
          "text": [
            "WARNING:tensorflow:From /usr/local/lib/python3.6/dist-packages/tensorflow/python/ops/math_ops.py:3066: to_int32 (from tensorflow.python.ops.math_ops) is deprecated and will be removed in a future version.\n",
            "Instructions for updating:\n",
            "Use tf.cast instead.\n",
            "Epoch 1/10\n",
            "60000/60000 [==============================] - 120s 2ms/sample - loss: 0.7852 - acc: 0.8049\n",
            "Epoch 2/10\n",
            "60000/60000 [==============================] - 120s 2ms/sample - loss: 0.3543 - acc: 0.8716\n",
            "Epoch 3/10\n",
            "60000/60000 [==============================] - 118s 2ms/sample - loss: 0.3127 - acc: 0.8859\n",
            "Epoch 4/10\n",
            "60000/60000 [==============================] - 118s 2ms/sample - loss: 0.2894 - acc: 0.8931\n",
            "Epoch 5/10\n",
            "60000/60000 [==============================] - 118s 2ms/sample - loss: 0.2710 - acc: 0.8990\n",
            "Epoch 6/10\n",
            "60000/60000 [==============================] - 117s 2ms/sample - loss: 0.2585 - acc: 0.9041\n",
            "Epoch 7/10\n",
            "60000/60000 [==============================] - 115s 2ms/sample - loss: 0.2423 - acc: 0.9089\n",
            "Epoch 8/10\n",
            "60000/60000 [==============================] - 114s 2ms/sample - loss: 0.2293 - acc: 0.9138\n",
            "Epoch 9/10\n",
            "60000/60000 [==============================] - 114s 2ms/sample - loss: 0.2189 - acc: 0.9175\n",
            "Epoch 10/10\n",
            "60000/60000 [==============================] - 114s 2ms/sample - loss: 0.2116 - acc: 0.9192\n"
          ],
          "name": "stdout"
        },
        {
          "output_type": "execute_result",
          "data": {
            "text/plain": [
              "<tensorflow.python.keras.callbacks.History at 0x7fd3c9b64c88>"
            ]
          },
          "metadata": {
            "tags": []
          },
          "execution_count": 13
        }
      ]
    },
    {
      "cell_type": "markdown",
      "metadata": {
        "id": "8ATHIdDHmgnI",
        "colab_type": "text"
      },
      "source": [
        "# **See how the training has gone**\n",
        "\n",
        "* Lets evaluate our model on the test set.\n",
        "* Looks like our CNN model doing a pretty good job at classifying the unknown images with almost 90% accuracy with 3 iterations and  and 92% with 10 epochs!\n",
        "* "
      ]
    },
    {
      "cell_type": "code",
      "metadata": {
        "id": "6niufMP8VpGr",
        "colab_type": "code",
        "outputId": "45b07d11-6591-4376-9a9a-b30e656e48e6",
        "colab": {
          "base_uri": "https://localhost:8080/",
          "height": 52
        }
      },
      "source": [
        "test_loss, test_acc = model.evaluate(x_test, y_test)\n",
        "print('Test accuracy: %f' %test_acc)"
      ],
      "execution_count": 14,
      "outputs": [
        {
          "output_type": "stream",
          "text": [
            "10000/10000 [==============================] - 6s 587us/sample - loss: 0.2987 - acc: 0.9002\n",
            "Test accuracy: 0.900200\n"
          ],
          "name": "stdout"
        }
      ]
    },
    {
      "cell_type": "markdown",
      "metadata": {
        "id": "pr9wbLPU-nZG",
        "colab_type": "text"
      },
      "source": [
        "## **See the loss**\n",
        "\n",
        "* Loss should decrease over time.\n",
        "* If you see that the loss in your program does not decrease over time, most likely, something went wrong and you should check with your input and network initialization and hyper-parameters.\n",
        "* "
      ]
    },
    {
      "cell_type": "code",
      "metadata": {
        "id": "S3xIa-n2mkIi",
        "colab_type": "code",
        "outputId": "e331f620-bbaa-4ad5-b8b2-5866a87eb2fa",
        "colab": {
          "base_uri": "https://localhost:8080/",
          "height": 300
        }
      },
      "source": [
        "# history. all losses\n",
        "all_loss = model.history.history['loss'] \n",
        "print(len(all_loss))\n",
        "\n",
        "# show the training errors\n",
        "plt.plot(np.squeeze(all_loss))\n",
        "plt.xlabel('iterations');plt.ylabel('cost')\n",
        "#plt.title('Learning rate %f' %learning_rate)\n",
        "plt.show()\n",
        "\n"
      ],
      "execution_count": 15,
      "outputs": [
        {
          "output_type": "stream",
          "text": [
            "10\n"
          ],
          "name": "stdout"
        },
        {
          "output_type": "display_data",
          "data": {
            "image/png": "[encoded data removed]",
            "text/plain": [
              "<Figure size 432x288 with 1 Axes>"
            ]
          },
          "metadata": {
            "tags": []
          }
        }
      ]
    },
    {
      "cell_type": "markdown",
      "metadata": {
        "id": "w4ijZQNhX_2x",
        "colab_type": "text"
      },
      "source": [
        "## **Visualize some predictions**\n",
        "\n",
        "* Let's randomly pick some **test** images and visualize the prediction using the model we just trained. First we get the predictions with the model from the test data. Then we print out some images from the test data set, and set the titles with the prediction (and the groud truth label). If the prediction matches the true label, the title will be green; otherwise it's displayed in red.\n",
        "\n",
        "* As we know the accuracy is around 90%, we see that the network occasionaly makes mistakes to predict a class.\n",
        "\n",
        "* You can convince yourself that the mistakes are somewhat reasonable."
      ]
    },
    {
      "cell_type": "code",
      "metadata": {
        "id": "vRQwa3x9X-0_",
        "colab_type": "code",
        "outputId": "aec90cd0-0b35-4760-9b01-1a815fa50288",
        "colab": {
          "base_uri": "https://localhost:8080/",
          "height": 485
        }
      },
      "source": [
        "# find the probability of the 10 classes and then assign the class label with \n",
        "# the higher probability model.predict_classes(x_test) gives directly the class\n",
        "# labels\n",
        "y_hat = model.predict(x_test)\n",
        "\n",
        "# Plot a random sample of 16 test images, their predicted labels and ground truth\n",
        "figure = plt.figure(figsize=(20, 8))\n",
        "for i, index in enumerate(np.random.choice(x_test.shape[0], size=16, replace=False)):\n",
        "    ax = figure.add_subplot(4, 4, i + 1, xticks=[], yticks=[])\n",
        "    # Display each image\n",
        "    ax.imshow(np.squeeze(x_test[index]))\n",
        "    predict_index = np.argmax(y_hat[index])\n",
        "    true_index = np.argmax(y_test[index])\n",
        "    # Set the title for each image\n",
        "    ax.set_title(\"{} ({})\".format(fashion_mnist_labels[predict_index], \n",
        "                                  fashion_mnist_labels[true_index]),\n",
        "                                  color=(\"green\" if predict_index == true_index else \"red\"))"
      ],
      "execution_count": 16,
      "outputs": [
        {
          "output_type": "display_data",
          "data": {
            "image/png": "[encoded data removed]",
            "text/plain": [
              "<Figure size 1440x576 with 16 Axes>"
            ]
          },
          "metadata": {
            "tags": []
          }
        }
      ]
    },
    {
      "cell_type": "markdown",
      "metadata": {
        "id": "zVckTdfkfeYD",
        "colab_type": "text"
      },
      "source": [
        "## **TODO**\n",
        "\n",
        "\n",
        "1. **Add one convolution layer** in the network and train again. See if it increases the accuracy.\n",
        "\n",
        "\n",
        "2. Find the **Confusion Matrix** and see how many in each class network can predict correctly and how many do not.\n",
        "\n",
        "3. \n",
        "\n",
        "\n"
      ]
    }
  ]
}